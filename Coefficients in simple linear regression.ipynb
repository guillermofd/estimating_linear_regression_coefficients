{
 "cells": [
  {
   "cell_type": "markdown",
   "metadata": {},
   "source": [
    "# Simple linear regression"
   ]
  },
  {
   "cell_type": "markdown",
   "metadata": {},
   "source": [
    "In simple linear regression, we will fit the data as a linear relationship between a single predictor X and the outcome variable Y. This model could be useful for both trying to predict the value of Y given the value of X or for analyzing if the value of X has a real influence over the value of Y.\n",
    "<br>This is the formula of simple linear regresion:</br>\n",
    "<center>\n",
    "    Y ≈ B<sub>0</sub> + B<sub>1</sub> X\n",
    "</center>\n",
    "where:<ul>\n",
    "    <li>Y is the the estimation for the dependent variable </li>\n",
    "    <li>B0 is the the intercept, the value of Y when X equals 0</li>\n",
    "    <li>B1 is the coefficient of X, the value that determines the influence of X over Y </li>\n",
    "    <li>X is the observed value of the independent variable </li>\n",
    "    </ul>\n",
    "So, the model calculates B0 and B1 to explain Y values in functions of X values.\n",
    "<br><br> We are going to work with randomly generated datasets but, in order to get a better understanding, you can think of X and Y as real world problems, like the price of an apartment(Y) as a function of square footage (X) or the relation between salary (Y) and years of experience (X).\n",
    "<br><br>\n",
    "In these real cases, we don't know the real relationship in the data (we cannot get all the prices and footage of all the apartments) but we can estimate it with a sample. We are going to work in the same way, estimating the coefficients from the sample data.\n",
    "<br><br>\n",
    "Let's imagine a situation where the real relationship between X and Y is as follows:\n",
    "<br>\n",
    "<br>\n",
    "<center>\n",
    "Y = 17.5 + 4.2 X + ∈\n",
    "</center>\n",
    "<br>\n",
    "So, real B0 is 17.5 and real B1 is 4.2. The error term (∈) is independent of X and has 0 mean.\n",
    "<br><br>We are going to generate a sample data of 30 observations (n).\n"
   ]
  },
  {
   "cell_type": "code",
   "execution_count": 2,
   "metadata": {},
   "outputs": [],
   "source": [
    "import numpy as np\n",
    "np.random.seed(42)\n",
    "X = np.random.randint(1,50, size=30) #30 random integers between 1 and 50\n",
    "errors = np.random.normal(scale=20,size=30) #the error term for each observation\n",
    "Y = 17.5 + 4.2 * X + errors"
   ]
  },
  {
   "cell_type": "markdown",
   "metadata": {},
   "source": [
    "We have generated the X and Y observed data, the only data we have in real problems, where we don't know the real relationship and we will try to estimate it. <br>We can plot the data we have:"
   ]
  },
  {
   "cell_type": "code",
   "execution_count": 3,
   "metadata": {},
   "outputs": [
    {
     "data": {
      "text/plain": [
       "<Figure size 640x480 with 1 Axes>"
      ]
     },
     "metadata": {},
     "output_type": "display_data"
    }
   ],
   "source": [
    "import matplotlib.pyplot as plt\n",
    "plt.scatter(X, Y)\n",
    "plt.xlabel(\"X values\")\n",
    "plt.ylabel(\"Y values\")\n",
    "plt.show()"
   ]
  },
  {
   "cell_type": "markdown",
   "metadata": {},
   "source": [
    "We can clearly see the positive relationship between X and Y, but we want to estimate the best linear estimation of Y based on X. So, we want to draw a line to estimate the values of Y with the best estimation possible, in other words, with the minimum error.<br><br> How we measure the error?<br><br> The prediction error (also called residual) is the distance between the predicted value (B<sub>0</sub> + B<sub>1</sub> \\*X) and the true value (Y). We should use the squared distance in order to avoid compensating negative and positive deviations. So we need to minimize the Residual Sum of Squares (RSS):\n",
    "<br>\n",
    "<br>\n",
    "<center>\n",
    "    RSS = (Y<sub>1</sub> - B<sub>0</sub> - B<sub>1</sub> *X<sub>1</sub>)<sup>2</sup> + (Y<sub>2</sub> - B<sub>0</sub> - B<sub>1</sub> *X<sub>2</sub>)<sup>2</sup> + ... + (Y<sub>n</sub> - B<sub>0</sub> - B<sub>1</sub> *X<sub>n</sub>)<sup>2</sup> \n",
    "</center>\n",
    "<br> This is why this method is called least squares.\n",
    "<br>Minimizing this function let us estimate B<sub>0</sub> and B<sub>1</sub>:\n",
    "<center>\n",
    "    $\\hat{B}_{1} = \\frac{\\sum_{i = 1}^{n} (x_{i}-\\overline{x})(y_{i}-\\overline{y})}{\\sum_{i = 1}^{n} (x_{i}-\\overline{x})^{2}}$\n",
    "<br> <br>\n",
    "$\\hat{B}_{0} = \\overline{y} - \\hat{B}_{1}\\overline{x}$  \n",
    "</center>\n",
    "For the estimation of B<sub>1</sub> we need:<ul>\n",
    "    <li> the deviation of X from its mean multiplied by the deviation of Y from its mean for each observation </li>\n",
    "    <li> the deviation of X from its mean squared</li>"
   ]
  },
  {
   "cell_type": "code",
   "execution_count": 4,
   "metadata": {},
   "outputs": [
    {
     "name": "stdout",
     "output_type": "stream",
     "text": [
      "The estimation for B1 is 4.18, for a real value of 4.2\n"
     ]
    }
   ],
   "source": [
    "X_mean = np.mean(X)\n",
    "Y_mean = np.mean(Y)\n",
    "mean_deviances_X = X - X_mean\n",
    "mean_deviances_Y = Y - Y_mean\n",
    "numerator = np.sum(mean_deviances_X * mean_deviances_Y)\n",
    "denominator = np.sum(mean_deviances_X**2)\n",
    "B1 = numerator / denominator\n",
    "print(f\"The estimation for B1 is {B1:.2f}, for a real value of 4.2\")"
   ]
  },
  {
   "cell_type": "markdown",
   "metadata": {},
   "source": [
    "Now we can estimate B<sub>0</sub>:"
   ]
  },
  {
   "cell_type": "code",
   "execution_count": 5,
   "metadata": {},
   "outputs": [
    {
     "name": "stdout",
     "output_type": "stream",
     "text": [
      "The estimation for B0 is 15.28, for a real value of 17.5\n"
     ]
    }
   ],
   "source": [
    "B0 = Y_mean -  B1 * X_mean\n",
    "print(f\"The estimation for B0 is {B0:.2f}, for a real value of 17.5\")"
   ]
  },
  {
   "cell_type": "markdown",
   "metadata": {},
   "source": [
    "We have the equation of the line:\n",
    "<center>\n",
    "Y ≈ 15.28 + 4.18 X\n",
    "</center>\n",
    "And we can plot it:"
   ]
  },
  {
   "cell_type": "code",
   "execution_count": 6,
   "metadata": {},
   "outputs": [
    {
     "data": {
      "image/png": "[encoded data removed]",
      "text/plain": [
       "<Figure size 432x288 with 1 Axes>"
      ]
     },
     "metadata": {
      "needs_background": "light"
     },
     "output_type": "display_data"
    }
   ],
   "source": [
    "plt.scatter(X, Y)\n",
    "line_x = np.linspace(0,50,100) #Generates 100 points equally distributed between 0 and 20\n",
    "line_y = B1*line_x+B0\n",
    "plt.plot(line_x, line_y)\n",
    "plt.xlabel(\"X values\")\n",
    "plt.ylabel(\"Y values\")\n",
    "plt.show()"
   ]
  },
  {
   "cell_type": "markdown",
   "metadata": {},
   "source": [
    "We have the line that estimates the real relationship but this estimation was based only on the observed data. If we collect data again, we can get different observation and the new data would change the estimated equation, so we can ask ourselves, how reliable is this estimation?\n",
    "<br>\n",
    "To answer this question, we calculate the standard error of B<sub>0</sub> and B<sub>1</sub>:\n",
    "<center>\n",
    "    $SE(\\hat{B}_{0})^{2} = \\sigma^{2}\\left[\\frac{1}{n}+\\frac{\\overline{x}^{2}}{\\sum_{i = 1}^{n}(x_{i}-\\overline{x})^{2}}\\right]$    \n",
    "<br><br>\n",
    "$SE(\\hat{B}_{1})^{2} = \\frac{\\sigma^{2}}{\\sum_{i = 1}^{n}(x_{i}-\\overline{x})^{2}}$ \n"
   ]
  },
  {
   "cell_type": "markdown",
   "metadata": {},
   "source": [
    "We have the line that estimates the real relationship but this estimation was based only on the observed data. If we collect data again, we can get different observation and the new data would change the estimated equation, so we can ask ourselves, how reliable is this estimation?\n",
    "<br>\n",
    "To answer this question, we calculate the standard error of B<sub>0</sub> and B<sub>1</sub>:\n",
    "<center>\n",
    "    $SE(\\hat{B}_{0})^{2} = \\sigma^{2}\\left[\\frac{1}{n}+\\frac{\\overline{x}^{2}}{\\sum_{i = 1}^{n}(x_{i}-\\overline{x})^{2}}\\right]$    \n",
    "<br><br>\n",
    "$SE(\\hat{B}_{1})^{2} = \\frac{\\sigma^{2}}{\\sum_{i = 1}^{n}(x_{i}-\\overline{x})^{2}}$ \n",
    "</center>\n",
    "Being:\n",
    "<br>\n",
    "$\\sigma^{2} = \\frac{\\sum_{i = 1}^{n}(y_{i}-\\hat{y})^{2}}{n-2}$"
   ]
  },
  {
   "cell_type": "code",
   "execution_count": 8,
   "metadata": {},
   "outputs": [
    {
     "name": "stdout",
     "output_type": "stream",
     "text": [
      "The standard error of B0 is 7.93\n"
     ]
    }
   ],
   "source": [
    "y_estimated = B0 + B1 * X\n",
    "\n",
    "residuals = Y - y_estimated\n",
    "squared_residuals = residuals ** 2\n",
    "sigma_squared = np.sum(squared_residuals) / (len(X)-2)\n",
    "\n",
    "X_mean_squared = X_mean**2\n",
    "se_B0_squared = sigma_squared * ((1/len(X)) + (X_mean_squared/denominator)) \n",
    "\n",
    "se_B0 = np.sqrt(se_B0_squared)\n",
    "\n",
    "print(f'The standard error of B0 is {se_B0:.2f}')"
   ]
  },
  {
   "cell_type": "code",
   "execution_count": 9,
   "metadata": {},
   "outputs": [
    {
     "name": "stdout",
     "output_type": "stream",
     "text": [
      "The standard error of B1 is 0.28\n"
     ]
    }
   ],
   "source": [
    "se_B1_squared = sigma_squared / denominator\n",
    "se_B1 = np.sqrt(se_B1_squared)\n",
    "print(f'The standard error of B1 is {se_B1:.2f}')"
   ]
  },
  {
   "cell_type": "markdown",
   "metadata": {},
   "source": [
    "Standard error of coefficients are useful for:<ul>\n",
    "    <li>calculate the confidence interval of the coefficient</li>\n",
    "    <li>check if the coefficient is stastistically significant different from 0</li></ul>\n",
    "<br><br>A certain % confidence intervale is a range that with a % probability contains the true value of the coefficiente. 95% confidence interval is the most commonly used. The value we need to perform this calculation comes from the t-distribution with n-2 degrees of freedom, and this value with a n close to 30 or larger is very close to 2. So, for the sake of simplicity, we will assume 2, and we will calculate the 95% confidence interval as:\n",
    "<center>\n",
    "    $\\left[\\hat{B}_{0}-2SE({B}_{0}), \\hat{B}_{0}+2SE({B}_{0})\\right]$\n",
    "</center><br>\n",
    "<center>\n",
    "    $\\left[\\hat{B}_{1}-2SE({B}_{1}), \\hat{B}_{1}+2SE({B}_{1})\\right]$\n",
    "</center>"
   ]
  },
  {
   "cell_type": "code",
   "execution_count": 10,
   "metadata": {},
   "outputs": [
    {
     "name": "stdout",
     "output_type": "stream",
     "text": [
      "With 95% probability, the true value of B0 is between -0.58 and 31.15\n",
      "With 95% probability, the true value of B1 is between 3.62 and 4.74\n"
     ]
    }
   ],
   "source": [
    "low_b0_interval = B0 - 2*se_B0\n",
    "high_b0_interval = B0 + 2*se_B0\n",
    "low_b1_interval = B1 - 2*se_B1\n",
    "high_b1_interval = B1 + 2*se_B1\n",
    "print(f'With 95% probability, the true value of B0 is between {low_b0_interval:.2f} and {high_b0_interval:.2f}')\n",
    "print(f'With 95% probability, the true value of B1 is between {low_b1_interval:.2f} and {high_b1_interval:.2f}')"
   ]
  },
  {
   "cell_type": "markdown",
   "metadata": {},
   "source": [
    "Finally, a hipothesys test is performed to check if the coefficient is statistically significant difference from 0. This is specially interesting for the B1 coefficient, because it shows if it's a relationship between X and Y. We set two hipothesys:\n",
    "<center>\n",
    "    ${H}_{0}: {B}_{1} = 0$ \n",
    "</center><br>\n",
    "<center>\n",
    "    ${H}_{0}: {B}_{1} \\neq 0$ \n",
    "</center><br>\n",
    "We are going to perform a test to see if we can reject the null hipothesys of no relationship between X and Y. The t-statistic gives us the result:\n",
    "<center>\n",
    "    $t = \\frac{\\hat{B}_{1} - 0}{SE(\\hat{B}_{1})}$ \n",
    "</center><br>"
   ]
  },
  {
   "cell_type": "code",
   "execution_count": 11,
   "metadata": {},
   "outputs": [
    {
     "name": "stdout",
     "output_type": "stream",
     "text": [
      "The t-statistic is 14.93\n"
     ]
    }
   ],
   "source": [
    "t_statistic = B1 / se_B1\n",
    "print(f'The t-statistic is {t_statistic:.2f}')"
   ]
  },
  {
   "cell_type": "markdown",
   "metadata": {},
   "source": [
    "From the t-statistic, we should compute the probability of rejecting the null hipothesys by chance. That's what the p-value measures. For a p-value of 5% or 1% (the most commonly used) the corresponding t-statistics are 2 and 2.75 respectively. We got a t-statitic far higher than these values, so we can say that we reject the null hipothesys, there is a relationship between X and Y and the probability of getting this conclusion by chance is far less than 1%."
   ]
  }
 ],
 "metadata": {
  "kernelspec": {
   "display_name": "Python 3",
   "language": "python",
   "name": "python3"
  },
  "language_info": {
   "codemirror_mode": {
    "name": "ipython",
    "version": 3
   },
   "file_extension": ".py",
   "mimetype": "text/x-python",
   "name": "python",
   "nbconvert_exporter": "python",
   "pygments_lexer": "ipython3",
   "version": "3.7.3"
  }
 },
 "nbformat": 4,
 "nbformat_minor": 2
}
