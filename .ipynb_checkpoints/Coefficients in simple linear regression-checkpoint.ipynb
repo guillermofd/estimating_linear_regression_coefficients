{
 "cells": [
  {
   "cell_type": "markdown",
   "metadata": {},
   "source": [
    "# Simple linear regression"
   ]
  },
  {
   "cell_type": "markdown",
   "metadata": {},
   "source": [
    "In simple linear regression, we will fit the data as a linear relationship between a single predictor X and the outcome variable Y. This model could be useful for both trying to predict the value of Y given the value of X or for analyzing if the value of X has a real influence over the value of Y.\n",
    "<br>This is the formula of simple linear regresion:</br>\n",
    "<img src=\"lr_formula.png\">\n",
    "where:<ul>\n",
    "    <li>Y is the the estimation for the dependent variable </li>\n",
    "    <li>B0 is the the intercept, the value of Y when X equals 0</li>\n",
    "    <li>B1 is the coefficient of X, the value that determines the influence of X over Y </li>\n",
    "    <li>X is the observed value of the independent variable </li>\n",
    "    </ul>\n",
    "So, the model calculates B0 and B1 to explain Y values in functions of X values.\n",
    "<br><br> We are going to work with randomly generated datasets but, in order to get a better understanding, you can think of X and Y as real world problems, like the price of an apartment(Y) as a function of square footage (X) or the relation between salary (Y) and years of experience (X).\n",
    "<br><br>\n",
    "In these real cases, we don't know the real relationship in the data (we cannot get all the prices and footage of all the apartments) but we can estimate it with a sample. We are going to work in the same way, estimating the coefficients from the sample data.\n",
    "<br><br>\n",
    "Let's imagine a situation where the real relationship between X and Y is as follows:\n",
    "<br>\n",
    "<center>\n",
    "Y = 2.5 + 4.2 X + ∈\n",
    "</center>\n",
    "<br>\n",
    "So, real B0 is 2.5 and real B1 is 4.2. The error term (∈) is independent of X and has 0 mean.\n",
    "<br><br>We are going to generate a sample data of 30 observations (n).\n"
   ]
  },
  {
   "cell_type": "code",
   "execution_count": 2,
   "metadata": {},
   "outputs": [],
   "source": [
    "import numpy as np"
   ]
  },
  {
   "cell_type": "code",
   "execution_count": null,
   "metadata": {},
   "outputs": [],
   "source": []
  }
 ],
 "metadata": {
  "kernelspec": {
   "display_name": "Python 3",
   "language": "python",
   "name": "python3"
  },
  "language_info": {
   "codemirror_mode": {
    "name": "ipython",
    "version": 3
   },
   "file_extension": ".py",
   "mimetype": "text/x-python",
   "name": "python",
   "nbconvert_exporter": "python",
   "pygments_lexer": "ipython3",
   "version": "3.7.3"
  }
 },
 "nbformat": 4,
 "nbformat_minor": 2
}
