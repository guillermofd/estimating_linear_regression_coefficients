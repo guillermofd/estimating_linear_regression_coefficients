{
 "cells": [
  {
   "cell_type": "markdown",
   "metadata": {},
   "source": [
    "# Simple linear regression"
   ]
  },
  {
   "cell_type": "markdown",
   "metadata": {},
   "source": [
    "In simple linear regression, we will fit the data as a linear relationship between a single predictor X and the outcome variable Y. This model could be useful for both trying to predict the value of Y given the value of X or for analyzing if the value of X has a real influence over the value of Y.\n",
    "<br>This is the formula of simple linear regresion:</br>\n",
    "<center>\n",
    "    Y ≈ B<sub>0</sub> + B<sub>1</sub> X\n",
    "</center>\n",
    "where:<ul>\n",
    "    <li>Y is the the estimation for the dependent variable </li>\n",
    "    <li>B0 is the the intercept, the value of Y when X equals 0</li>\n",
    "    <li>B1 is the coefficient of X, the value that determines the influence of X over Y </li>\n",
    "    <li>X is the observed value of the independent variable </li>\n",
    "    </ul>\n",
    "So, the model calculates B0 and B1 to explain Y values in functions of X values.\n",
    "<br><br> We are going to work with randomly generated datasets but, in order to get a better understanding, you can think of X and Y as real world problems, like the price of an apartment(Y) as a function of square footage (X) or the relation between salary (Y) and years of experience (X).\n",
    "<br><br>\n",
    "In these real cases, we don't know the real relationship in the data (we cannot get all the prices and footage of all the apartments) but we can estimate it with a sample. We are going to work in the same way, estimating the coefficients from the sample data.\n",
    "<br><br>\n",
    "Let's imagine a situation where the real relationship between X and Y is as follows:\n",
    "<br>\n",
    "<br>\n",
    "<center>\n",
    "Y = 17.5 + 4.2 X + ∈\n",
    "</center>\n",
    "<br>\n",
    "So, real B0 is 17.5 and real B1 is 4.2. The error term (∈) is independent of X and has 0 mean.\n",
    "<br><br>We are going to generate a sample data of 30 observations (n).\n"
   ]
  },
  {
   "cell_type": "code",
   "execution_count": 37,
   "metadata": {},
   "outputs": [],
   "source": [
    "import numpy as np\n",
    "np.random.seed(42)\n",
    "X = np.random.randint(1,50, size=30) #30 random integers between 1 and 50\n",
    "errors = np.random.normal(scale=20,size=30) #the error term for each observation\n",
    "Y = 17.5 + 4.2 * X + errors"
   ]
  },
  {
   "cell_type": "markdown",
   "metadata": {},
   "source": [
    "We have generated the X and Y observed data, the only data we have in real problems, where we don't know the real relationship and we will try to estimate it. <br>We can plot the data we have:"
   ]
  },
  {
   "cell_type": "code",
   "execution_count": 38,
   "metadata": {},
   "outputs": [
    {
     "data": {
      "image/png": "[encoded data removed]",
      "text/plain": [
       "<Figure size 432x288 with 1 Axes>"
      ]
     },
     "metadata": {
      "needs_background": "light"
     },
     "output_type": "display_data"
    }
   ],
   "source": [
    "import matplotlib.pyplot as plt\n",
    "plt.scatter(X, Y)\n",
    "plt.xlabel(\"X values\")\n",
    "plt.ylabel(\"Y values\")\n",
    "plt.show()"
   ]
  },
  {
   "cell_type": "markdown",
   "metadata": {},
   "source": [
    "We can clearly see the positive relationship between X and Y, but we want to estimate the best linear estimation of Y based on X. So, we want to draw a line to estimate the values of Y with the best estimation possible, in other words, with the minimum error.<br><br> How we measure the error?<br><br> The prediction error (also called residual) is the distance between the predicted value (B<sub>0</sub> + B<sub>1</sub> \\*X) and the true value (Y). We should use the squared distance in order to avoid compensating negative and positive deviations. So we need to minimize the Residual Sum of Squares (RSS):\n",
    "<br>\n",
    "<br>\n",
    "<center>\n",
    "    RSS = (Y<sub>1</sub> - B<sub>0</sub> - B<sub>1</sub> *X<sub>1</sub>)<sup>2</sup> + (Y<sub>2</sub> - B<sub>0</sub> - B<sub>1</sub> *X<sub>2</sub>)<sup>2</sup> + ... + (Y<sub>n</sub> - B<sub>0</sub> - B<sub>1</sub> *X<sub>n</sub>)<sup>2</sup> \n",
    "</center>\n",
    "<br> This is why this method is called least squares.\n",
    "<br>Minimizing this function let us estimate B<sub>0</sub> and B<sub>1</sub>:\n",
    "<center>\n",
    "    $\\hat{B}_{1} = \\frac{\\sum_{i = 1}^{n} (x_{i}-\\overline{x})(y_{i}-\\overline{y})}{\\sum_{i = 1}^{n} (x_{i}-\\overline{x})^{2}}$\n",
    "<br> <br>\n",
    "$\\hat{B}_{0} = \\overline{y} - \\hat{B}_{1}\\overline{x}$  \n",
    "</center>\n",
    "For the estimation of B<sub>1</sub> we need:<ul>\n",
    "    <li> the deviation of X from its mean multiplied by the deviation of Y from its mean for each observation </li>\n",
    "    <li> the deviation of X from its mean squared</li>"
   ]
  },
  {
   "cell_type": "code",
   "execution_count": 58,
   "metadata": {},
   "outputs": [
    {
     "name": "stdout",
     "output_type": "stream",
     "text": [
      "The estimation for B1 is 4.18, for a real value of 4.2\n"
     ]
    }
   ],
   "source": [
    "X_mean = np.mean(X)\n",
    "Y_mean = np.mean(Y)\n",
    "mean_deviances_X = X - X_mean\n",
    "mean_deviances_Y = Y - Y_mean\n",
    "numerator = np.sum(mean_deviances_X * mean_deviances_Y)\n",
    "denominator = np.sum(mean_deviances_X**2)\n",
    "B1 = numerator / denominator\n",
    "print(f\"The estimation for B1 is {B1:.2f}, for a real value of 4.2\")"
   ]
  },
  {
   "cell_type": "markdown",
   "metadata": {},
   "source": [
    "Now we can estimate B<sub>0</sub>:"
   ]
  },
  {
   "cell_type": "code",
   "execution_count": 57,
   "metadata": {},
   "outputs": [
    {
     "name": "stdout",
     "output_type": "stream",
     "text": [
      "The estimation for B0 is 15.28, for a real value of 17.5\n"
     ]
    }
   ],
   "source": [
    "B0 = Y_mean -  B1 * X_mean\n",
    "print(f\"The estimation for B0 is {B0:.2f}, for a real value of 17.5\")"
   ]
  },
  {
   "cell_type": "markdown",
   "metadata": {},
   "source": [
    "We have the equation of the line:\n",
    "<center>\n",
    "Y ≈ 15.28 + 4.18 X\n",
    "</center>\n",
    "And we can plot it:"
   ]
  },
  {
   "cell_type": "code",
   "execution_count": 59,
   "metadata": {},
   "outputs": [
    {
     "data": {
      "image/png": "[encoded data removed]",
      "text/plain": [
       "<Figure size 432x288 with 1 Axes>"
      ]
     },
     "metadata": {
      "needs_background": "light"
     },
     "output_type": "display_data"
    }
   ],
   "source": [
    "plt.scatter(X, Y)\n",
    "line_x = np.linspace(0,50,100) #Generates 100 points equally distributed between 0 and 20\n",
    "line_y = B1*line_x+B0\n",
    "plt.plot(line_x, line_y)\n",
    "plt.xlabel(\"X values\")\n",
    "plt.ylabel(\"Y values\")\n",
    "plt.show()"
   ]
  }
 ],
 "metadata": {
  "kernelspec": {
   "display_name": "Python 3",
   "language": "python",
   "name": "python3"
  },
  "language_info": {
   "codemirror_mode": {
    "name": "ipython",
    "version": 3
   },
   "file_extension": ".py",
   "mimetype": "text/x-python",
   "name": "python",
   "nbconvert_exporter": "python",
   "pygments_lexer": "ipython3",
   "version": "3.7.3"
  }
 },
 "nbformat": 4,
 "nbformat_minor": 2
}
